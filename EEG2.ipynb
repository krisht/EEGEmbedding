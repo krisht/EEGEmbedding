{
 "cells": [
  {
   "cell_type": "code",
   "execution_count": 1,
   "metadata": {
    "collapsed": true
   },
   "outputs": [],
   "source": [
    "%matplotlib qt\n",
    "import mne\n",
    "import os\n",
    "import numpy as np"
   ]
  },
  {
   "cell_type": "code",
   "execution_count": 2,
   "metadata": {
    "collapsed": false
   },
   "outputs": [
    {
     "name": "stdout",
     "output_type": "stream",
     "text": [
      "Extracting edf Parameters from ./a_1.edf...\n",
      "Setting channel info structure...\n",
      "Interpolating stim channel. Events may jitter.\n",
      "Creating Raw.info structure...\n",
      "Reading 0 ... 301249  =      0.000 ...  1204.996 secs...\n"
     ]
    },
    {
     "name": "stderr",
     "output_type": "stream",
     "text": [
      "<ipython-input-2-83e08c8229ec>:1: RuntimeWarning: Interpolating stim channel. Events may jitter.\n",
      "  raw = mne.io.read_raw_edf('./a_1.edf', preload=True)\n"
     ]
    },
    {
     "name": "stdout",
     "output_type": "stream",
     "text": [
      "Ready.\n"
     ]
    }
   ],
   "source": [
    "raw = mne.io.read_raw_edf('./a_1.edf', preload=True)"
   ]
  },
  {
   "cell_type": "code",
   "execution_count": 4,
   "metadata": {
    "collapsed": false
   },
   "outputs": [
    {
     "data": {
      "text/plain": [
       "[u'EEG FP1-REF',\n",
       " u'EEG FP2-REF',\n",
       " u'EEG F3-REF',\n",
       " u'EEG F4-REF',\n",
       " u'EEG C3-REF',\n",
       " u'EEG C4-REF',\n",
       " u'EEG P3-REF',\n",
       " u'EEG P4-REF',\n",
       " u'EEG O1-REF',\n",
       " u'EEG O2-REF',\n",
       " u'EEG F7-REF',\n",
       " u'EEG F8-REF',\n",
       " u'EEG T3-REF',\n",
       " u'EEG T4-REF',\n",
       " u'EEG T5-REF',\n",
       " u'EEG T6-REF',\n",
       " u'EEG A1-REF',\n",
       " u'EEG A2-REF',\n",
       " u'EEG FZ-REF',\n",
       " u'EEG CZ-REF',\n",
       " u'EEG PZ-REF',\n",
       " u'EEG ROC-REF',\n",
       " u'EEG LOC-REF',\n",
       " u'EEG EKG1-REF',\n",
       " u'EEG T1-REF',\n",
       " u'EEG T2-REF',\n",
       " u'PHOTIC-REF',\n",
       " u'IBI',\n",
       " u'BURSTS',\n",
       " 'STI 014']"
      ]
     },
     "execution_count": 4,
     "metadata": {},
     "output_type": "execute_result"
    }
   ],
   "source": [
    "raw.ch_names"
   ]
  },
  {
   "cell_type": "code",
   "execution_count": 7,
   "metadata": {
    "collapsed": true
   },
   "outputs": [],
   "source": [
    "events = mne.find_events(raw, stim_channel='STI 014')"
   ]
  },
  {
   "cell_type": "code",
   "execution_count": 8,
   "metadata": {
    "collapsed": false
   },
   "outputs": [
    {
     "name": "stdout",
     "output_type": "stream",
     "text": [
      "[]\n"
     ]
    }
   ],
   "source": [
    "epochs = mne.Epochs(raw, tmin=tmin, tmax=tmax, baseeline)"
   ]
  },
  {
   "cell_type": "code",
   "execution_count": null,
   "metadata": {
    "collapsed": true
   },
   "outputs": [],
   "source": []
  }
 ],
 "metadata": {
  "kernelspec": {
   "display_name": "Python 3",
   "language": "python",
   "name": "python3"
  },
  "language_info": {
   "codemirror_mode": {
    "name": "ipython",
    "version": 2
   },
   "file_extension": ".py",
   "mimetype": "text/x-python",
   "name": "python",
   "nbconvert_exporter": "python",
   "pygments_lexer": "ipython2",
   "version": "2.7.12+"
  }
 },
 "nbformat": 4,
 "nbformat_minor": 2
}
